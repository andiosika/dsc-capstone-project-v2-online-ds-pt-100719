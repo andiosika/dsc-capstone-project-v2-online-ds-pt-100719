{
 "cells": [
  {
   "cell_type": "markdown",
   "metadata": {},
   "source": [
    "https://www.curiousily.com/posts/create-dataset-for-sentiment-analysis-by-scraping-google-play-app-reviews-using-python/"
   ]
  },
  {
   "cell_type": "code",
   "execution_count": 3,
   "metadata": {},
   "outputs": [
    {
     "name": "stdout",
     "output_type": "stream",
     "text": [
      "Collecting google_play_scraper\n",
      "  Downloading https://files.pythonhosted.org/packages/f1/71/d674a827cfaa7ddc2b2387eb477faf899f48e6f4d1f911eb39c8ca6373f2/google-play-scraper-0.0.3.0.tar.gz (49kB)\n",
      "Building wheels for collected packages: google-play-scraper\n",
      "  Building wheel for google-play-scraper (setup.py): started\n",
      "  Building wheel for google-play-scraper (setup.py): finished with status 'done'\n",
      "  Created wheel for google-play-scraper: filename=google_play_scraper-0.0.3.0-cp36-none-any.whl size=21953 sha256=342364d5de29d5314b8cef3eaffd1bfb25f08cf04de7fadb63ef95b78b447af9\n",
      "  Stored in directory: C:\\Users\\aosika\\AppData\\Local\\pip\\Cache\\wheels\\34\\0d\\1a\\cd5993428dc7c5710ed5b2201ba7c0f3f14f80c951e4bde14e\n",
      "Successfully built google-play-scraper\n",
      "Installing collected packages: google-play-scraper\n",
      "Successfully installed google-play-scraper-0.0.3.0\n"
     ]
    },
    {
     "name": "stderr",
     "output_type": "stream",
     "text": [
      "ERROR: Error checking for conflicts.\n",
      "Traceback (most recent call last):\n",
      "  File \"C:\\Users\\aosika\\AppData\\Local\\Continuum\\anaconda3\\envs\\learn-env\\lib\\site-packages\\pip\\_vendor\\pkg_resources\\__init__.py\", line 3012, in _dep_map\n",
      "    return self.__dep_map\n",
      "  File \"C:\\Users\\aosika\\AppData\\Local\\Continuum\\anaconda3\\envs\\learn-env\\lib\\site-packages\\pip\\_vendor\\pkg_resources\\__init__.py\", line 2806, in __getattr__\n",
      "    raise AttributeError(attr)\n",
      "AttributeError: _DistInfoDistribution__dep_map\n",
      "\n",
      "During handling of the above exception, another exception occurred:\n",
      "\n",
      "Traceback (most recent call last):\n",
      "  File \"C:\\Users\\aosika\\AppData\\Local\\Continuum\\anaconda3\\envs\\learn-env\\lib\\site-packages\\pip\\_vendor\\pkg_resources\\__init__.py\", line 3003, in _parsed_pkg_info\n",
      "    return self._pkg_info\n",
      "  File \"C:\\Users\\aosika\\AppData\\Local\\Continuum\\anaconda3\\envs\\learn-env\\lib\\site-packages\\pip\\_vendor\\pkg_resources\\__init__.py\", line 2806, in __getattr__\n",
      "    raise AttributeError(attr)\n",
      "AttributeError: _pkg_info\n",
      "\n",
      "During handling of the above exception, another exception occurred:\n",
      "\n",
      "Traceback (most recent call last):\n",
      "  File \"C:\\Users\\aosika\\AppData\\Local\\Continuum\\anaconda3\\envs\\learn-env\\lib\\site-packages\\pip\\_internal\\commands\\install.py\", line 517, in _warn_about_conflicts\n",
      "    package_set, _dep_info = check_install_conflicts(to_install)\n",
      "  File \"C:\\Users\\aosika\\AppData\\Local\\Continuum\\anaconda3\\envs\\learn-env\\lib\\site-packages\\pip\\_internal\\operations\\check.py\", line 110, in check_install_conflicts\n",
      "    package_set, _ = create_package_set_from_installed()\n",
      "  File \"C:\\Users\\aosika\\AppData\\Local\\Continuum\\anaconda3\\envs\\learn-env\\lib\\site-packages\\pip\\_internal\\operations\\check.py\", line 49, in create_package_set_from_installed\n",
      "    package_set[name] = PackageDetails(dist.version, dist.requires())\n",
      "  File \"C:\\Users\\aosika\\AppData\\Local\\Continuum\\anaconda3\\envs\\learn-env\\lib\\site-packages\\pip\\_vendor\\pkg_resources\\__init__.py\", line 2727, in requires\n",
      "    dm = self._dep_map\n",
      "  File \"C:\\Users\\aosika\\AppData\\Local\\Continuum\\anaconda3\\envs\\learn-env\\lib\\site-packages\\pip\\_vendor\\pkg_resources\\__init__.py\", line 3014, in _dep_map\n",
      "    self.__dep_map = self._compute_dependencies()\n",
      "  File \"C:\\Users\\aosika\\AppData\\Local\\Continuum\\anaconda3\\envs\\learn-env\\lib\\site-packages\\pip\\_vendor\\pkg_resources\\__init__.py\", line 3023, in _compute_dependencies\n",
      "    for req in self._parsed_pkg_info.get_all('Requires-Dist') or []:\n",
      "  File \"C:\\Users\\aosika\\AppData\\Local\\Continuum\\anaconda3\\envs\\learn-env\\lib\\site-packages\\pip\\_vendor\\pkg_resources\\__init__.py\", line 3005, in _parsed_pkg_info\n",
      "    metadata = self.get_metadata(self.PKG_INFO)\n",
      "  File \"C:\\Users\\aosika\\AppData\\Local\\Continuum\\anaconda3\\envs\\learn-env\\lib\\site-packages\\pip\\_vendor\\pkg_resources\\__init__.py\", line 1419, in get_metadata\n",
      "    value = self._get(self._fn(self.egg_info, name))\n",
      "  File \"C:\\Users\\aosika\\AppData\\Local\\Continuum\\anaconda3\\envs\\learn-env\\lib\\site-packages\\pip\\_vendor\\pkg_resources\\__init__.py\", line 1607, in _get\n",
      "    with open(path, 'rb') as stream:\n",
      "FileNotFoundError: [Errno 2] No such file or directory: 'c:\\\\users\\\\aosika\\\\appdata\\\\local\\\\continuum\\\\anaconda3\\\\envs\\\\learn-env\\\\lib\\\\site-packages\\\\statsmodels-0.11.1.dist-info\\\\METADATA'\n"
     ]
    }
   ],
   "source": [
    "!pip install google_play_scraper"
   ]
  },
  {
   "cell_type": "code",
   "execution_count": 4,
   "metadata": {},
   "outputs": [],
   "source": [
    "import json\n",
    "import pandas as pd\n",
    "from tqdm import tqdm\n",
    "import seaborn as sns\n",
    "import matplotlib.pyplot as plt\n",
    "from pygments import highlight\n",
    "from pygments.lexers import JsonLexer\n",
    "from pygments.formatters import TerminalFormatter\n",
    "from google_play_scraper import Sort, reviews, app\n",
    "%matplotlib inline\n",
    "%config InlineBackend.figure_format='retina'\n",
    "sns.set(style='whitegrid', palette='muted', font_scale=1.2)"
   ]
  },
  {
   "cell_type": "markdown",
   "metadata": {},
   "source": [
    "## Why does THIS work?"
   ]
  },
  {
   "cell_type": "code",
   "execution_count": 16,
   "metadata": {},
   "outputs": [],
   "source": [
    "app_packages = [\n",
    "  'com.anydo',\n",
    "  'com.todoist',\n",
    "  'com.ticktick.task',\n",
    "  'com.habitrpg.android.habitica',\n",
    "  'cc.forestapp',\n",
    "  'com.oristats.habitbull',\n",
    "  'com.levor.liferpgtasks',\n",
    "  'com.habitnow',\n",
    "  'com.microsoft.todos',\n",
    "  'prox.lab.calclock',\n",
    "  'com.gmail.jmartindev.timetune',\n",
    "  'com.artfulagenda.app',\n",
    "  'com.tasks.android',\n",
    "  'com.appgenix.bizcal',\n",
    "  'com.appxy.planner'\n",
    "]"
   ]
  },
  {
   "cell_type": "markdown",
   "metadata": {},
   "source": [
    "## ....and NOT this?"
   ]
  },
  {
   "cell_type": "code",
   "execution_count": 20,
   "metadata": {},
   "outputs": [],
   "source": [
    "# app_packages = [\n",
    "#     'com.offerup',\n",
    "#     'com.letgo',\n",
    "#     'com.carfax',\n",
    "#     'com.marketPlace',\n",
    "#     'com.perkwiz',\n",
    "    \n",
    "# ]"
   ]
  },
  {
   "cell_type": "code",
   "execution_count": 21,
   "metadata": {},
   "outputs": [
    {
     "name": "stderr",
     "output_type": "stream",
     "text": [
      "100%|██████████| 1/1 [00:00<00:00,  2.03it/s]\n"
     ]
    }
   ],
   "source": [
    "app_infos = []\n",
    "\n",
    "for ap in tqdm(app_packages):\n",
    "    info = app(ap, lang='en', country='us')\n",
    "    del info['comments']\n",
    "    app_infos.append(info)"
   ]
  },
  {
   "cell_type": "code",
   "execution_count": 26,
   "metadata": {},
   "outputs": [],
   "source": [
    "def print_json(json_object):\n",
    "    json_str = json.dumps(\n",
    "        json_object,\n",
    "        indent=2,\n",
    "        sort_keys=True,\n",
    "        default=str)\n",
    "    print(highlight(json_str, JsonLexer(), TerminalFormatter()))"
   ]
  },
  {
   "cell_type": "code",
   "execution_count": 29,
   "metadata": {},
   "outputs": [
    {
     "name": "stdout",
     "output_type": "stream",
     "text": [
      "{\n",
      "  \"adSupported\": null,\n",
      "  \"androidVersion\": \"5.0\",\n",
      "  \"androidVersionText\": \"5.0 and up\",\n",
      "  \"appId\": \"com.offerup\",\n",
      "  \"containsAds\": null,\n",
      "  \"contentRating\": \"Everyone\",\n",
      "  \"contentRatingDescription\": null,\n",
      "  \"currency\": \"USD\",\n",
      "  \"description\": \"<b>Buy. Sell. Simple.</b>\\r\\n\\r\\nJoin the largest mobile marketplace for local buyers and sellers! \\r\\n\\r\\nOfferUp makes it easy to find great deals on the things you want and make money on the things you want to sell. Ditch the Classified Ads and garage sales -- this is the best way to buy and sell in your community or neighborhood with people you can trust.\\r\\n\\r\\n<b>How it works:</b>\\r\\n\\r\\n\\u2022 Buy or sell anything; easily offer up your items for sale in 30 seconds. \\r\\n\\u2022 Find great deals and discounts on clothes, shoes, furniture, cell phones, electronics, baby & kids items, sports equipment, used cars, home goods and more.\\r\\n\\u2022 Use reputation features like ratings and profiles to see who you\\u2019re dealing with and build trust. \\r\\n\\u2022 Shop local items for sale with thousands of new postings daily. \\r\\n\\u2022 Message buyers and sellers securely from within the app. \\r\\n\\u2022 Build your reputation with your unique seller profile page. \\r\\n\\u2022 Browse items by image and sort by category or location. \\r\\n\\u2022 Join millions of people using OfferUp across the country. \\r\\n\\u2022 Skip the garage sale! OfferUp is the simplest way to buy and sell locally.\\r\\n\\r\\n<b>Fun facts about OfferUp:</b>\\r\\n\\r\\n1. With OfferUp you can easily sell anything like clothes and shoes, used cars, electronics and home goods.\\r\\n2. OfferUp shows you what\\u2019s selling nearby, right in your neighborhood. \\r\\n3. Communication between buyers & sellers happens through the app via secure messaging.\\r\\n4. OfferUp is better than a garage sale; shop anything you want at a discount, right on your phone or tablet.\\r\\n\\r\\n<b>Be part of the community:</b> \\r\\n\\r\\nWe\\u2019re making local buying and selling an experience that everyone can try and trust. The community at the heart of our marketplace is what makes that possible. When you join OfferUp, you\\u2019re joining millions of people helping each other make money and save money around the nation -- and right in the neighborhood.\",\n",
      "  \"descriptionHTML\": \"<b>Buy. Sell. Simple.</b><br><br>Join the largest mobile marketplace for local buyers and sellers! <br><br>OfferUp makes it easy to find great deals on the things you want and make money on the things you want to sell. Ditch the Classified Ads and garage sales -- this is the best way to buy and sell in your community or neighborhood with people you can trust.<br><br><b>How it works:</b><br><br>\\u2022 Buy or sell anything; easily offer up your items for sale in 30 seconds. <br>\\u2022 Find great deals and discounts on clothes, shoes, furniture, cell phones, electronics, baby &amp; kids items, sports equipment, used cars, home goods and more.<br>\\u2022 Use reputation features like ratings and profiles to see who you\\u2019re dealing with and build trust. <br>\\u2022 Shop local items for sale with thousands of new postings daily. <br>\\u2022 Message buyers and sellers securely from within the app. <br>\\u2022 Build your reputation with your unique seller profile page. <br>\\u2022 Browse items by image and sort by category or location. <br>\\u2022 Join millions of people using OfferUp across the country. <br>\\u2022 Skip the garage sale! OfferUp is the simplest way to buy and sell locally.<br><br><b>Fun facts about OfferUp:</b><br><br>1. With OfferUp you can easily sell anything like clothes and shoes, used cars, electronics and home goods.<br>2. OfferUp shows you what\\u2019s selling nearby, right in your neighborhood. <br>3. Communication between buyers &amp; sellers happens through the app via secure messaging.<br>4. OfferUp is better than a garage sale; shop anything you want at a discount, right on your phone or tablet.<br><br><b>Be part of the community:</b> <br><br>We\\u2019re making local buying and selling an experience that everyone can try and trust. The community at the heart of our marketplace is what makes that possible. When you join OfferUp, you\\u2019re joining millions of people helping each other make money and save money around the nation -- and right in the neighborhood.\",\n",
      "  \"developer\": \"OfferUp Inc.\",\n",
      "  \"developerAddress\": \"OfferUp Inc.\\n227 Bellevue Way NE #57\\nBellevue, WA 98004\",\n",
      "  \"developerEmail\": \"support@offerup.com\",\n",
      "  \"developerId\": \"OfferUp+Inc.\",\n",
      "  \"developerInternalID\": \"6555163955117115707\",\n",
      "  \"developerWebsite\": \"http://offerup.com\",\n",
      "  \"free\": true,\n",
      "  \"genre\": \"Shopping\",\n",
      "  \"genreId\": \"SHOPPING\",\n",
      "  \"headerImage\": \"https://lh3.googleusercontent.com/oUzad1cQDelv02S6S351y7eFQ7wXkL7CnnIDn7xonNZLoK9vVhsRU4PKVvC2VuSrrQ\",\n",
      "  \"histogram\": [\n",
      "    45217,\n",
      "    11427,\n",
      "    27680,\n",
      "    119940,\n",
      "    621132\n",
      "  ],\n",
      "  \"icon\": \"https://lh3.googleusercontent.com/Zo0k9swmUAki7TiBB4_bhQf_mukWlUQJGoTcwVPZXTw_cXCDK1bHbskUhyu5D4dyd_Ms\",\n",
      "  \"installs\": \"50,000,000+\",\n",
      "  \"minInstalls\": 50000000,\n",
      "  \"offersIAP\": true,\n",
      "  \"originalPrice\": null,\n",
      "  \"price\": 0,\n",
      "  \"privacyPolicy\": \"http://offerup.com/privacy\",\n",
      "  \"ratings\": 825398,\n",
      "  \"recentChanges\": \"\\r\\nEnhanced user experience and stability.\\r\\n\\r\\nThanks for using OfferUp and keep the feedback coming!\\r\\nYou can contact us by going to the Help Center in the app or on the web.\\r\\n\",\n",
      "  \"recentChangesHTML\": \"<br>Enhanced user experience and stability.<br><br>Thanks for using OfferUp and keep the feedback coming!<br>You can contact us by going to the Help Center in the app or on the web.<br>\",\n",
      "  \"released\": \"Sep 25, 2013\",\n",
      "  \"reviews\": 317606,\n",
      "  \"sale\": false,\n",
      "  \"saleText\": null,\n",
      "  \"saleTime\": null,\n",
      "  \"score\": 4.5269537,\n",
      "  \"screenshots\": [\n",
      "    \"https://lh3.googleusercontent.com/YiGLw_RrEIIpwkr01kEonOJjNOxf53Mjpy0wsz-q3Eo9rXIObYFHGLyCLOv5hk-mK9-P\",\n",
      "    \"https://lh3.googleusercontent.com/hkaMcIwJN1SmuHcz4nEXcFpOBR9dqMaG8XwN5-ZgPgssUroejofM3lIeA_Zr5yl8g5I\",\n",
      "    \"https://lh3.googleusercontent.com/TLiFLFS6-oYqdw2tdACy4ByGxZIghfQa7fOnHqcqcxvCktljI03GaH58XoQQpHDufko\",\n",
      "    \"https://lh3.googleusercontent.com/GUjMcMehLWOXzROoq-hrkp7dlaO64rnxu6UadMgm-XKpBtWZT0EP1KppB5UThSXkCvMX\",\n",
      "    \"https://lh3.googleusercontent.com/y-fuelTJr0eP6WojzaM6H2I_ZLxX3Yy7pjFFNwrTGhGvDlik1OCnnSYcH96_qGhccnA\",\n",
      "    \"https://lh3.googleusercontent.com/ub86anUJmlHu0FV8kxwENg9XTJsKv1AUXwKsp1AiA0Zm3bV1N5Y53kVhH3ZMvlUwxIs\",\n",
      "    \"https://lh3.googleusercontent.com/AdTCdV6xrgG5JnnAtlRxTuD2YXplVHh07bOwCrifbKCkiqrvq4k2NYuDxSTuZ7Ryxw\",\n",
      "    \"https://lh3.googleusercontent.com/in4vqTl9K1lVoC2xzBgc5fkVwVuuZitojok0wG9gxzexOCI3qHQA_PnwtK4yqQaePP32\",\n",
      "    \"https://lh3.googleusercontent.com/bQpP3kuW9_C19SpLlqu0G5p2xZBJAwOw6C2XgFAT4k1NxCXJT7UXdvJp9VF64TyhGQ\",\n",
      "    \"https://lh3.googleusercontent.com/ruGufa-_SbQKsk-WdV0eRHU3uxRePALQE4U6QP9H7dJeSjGdKERsec0qkfNvBHMiog\",\n",
      "    \"https://lh3.googleusercontent.com/xggBhwCmnzuGTNFOmlgn2TeTcS7GEZFIxGJ17a_dL44zLl3HLLBTJrlVvdiFDi3qVQ\",\n",
      "    \"https://lh3.googleusercontent.com/w3mU09GxsyQj5FGrrwr7frgiQWp60003tsZmSAwlhrJjH9-iIx-R5Y1CP7kMuiOpd66Z\",\n",
      "    \"https://lh3.googleusercontent.com/3Tc1RIMZIfpZCuK4We32xh_C5sGLB6bcQoIJ4sc3jGFOsINM4D04HvwuSXh3GFriqQ\",\n",
      "    \"https://lh3.googleusercontent.com/7nX-r7KzOHDgZe8BySeqHO4Sl0BBMFf_iEPX6U9IOkN543wmQXVHMDseERzpkr8n9Q\",\n",
      "    \"https://lh3.googleusercontent.com/srLnkFz5mK35M3PM8EgxGzVhHHNVyDG7mMG2scNokQs2PX-dBa8nRqjSU9_Rj90JfPVB\",\n",
      "    \"https://lh3.googleusercontent.com/BwN3nByBR1jVHhU3D7b11Zp2REBR2jXtrjTzIB6fz1WtflSttTq0qQHzo1ItpyeGWo0\",\n",
      "    \"https://lh3.googleusercontent.com/DpTAAHx2CPtsDPwWPaQxYOX0r7dATT44Ea67jNwsG1XLLpPobSjuki1NnrpKpgZaDw\",\n",
      "    \"https://lh3.googleusercontent.com/ojEc8C66xu9ymnKOkPbEWfSu1Bwojt9wzmsNjjXaFBC6PwSWxczONWxU4zsIyxBZBtg\"\n",
      "  ],\n",
      "  \"size\": \"57M\",\n",
      "  \"summary\": \"OfferUp: The largest mobile marketplace for local buyers and sellers.\",\n",
      "  \"summaryHTML\": \"OfferUp: The largest mobile marketplace for local buyers and sellers.\",\n",
      "  \"title\": \"OfferUp - Buy. Sell. Offer Up\",\n",
      "  \"updated\": 1593190208,\n",
      "  \"url\": \"https://play.google.com/store/apps/details?id=com.offerup&hl=en&gl=us\",\n",
      "  \"version\": \"3.59.0\",\n",
      "  \"video\": null,\n",
      "  \"videoImage\": null\n",
      "}\n",
      "\n"
     ]
    }
   ],
   "source": [
    "print_json(app_infos[0])"
   ]
  },
  {
   "cell_type": "code",
   "execution_count": 32,
   "metadata": {},
   "outputs": [
    {
     "name": "stderr",
     "output_type": "stream",
     "text": [
      "100%|██████████| 1/1 [00:07<00:00,  7.78s/it]\n"
     ]
    }
   ],
   "source": [
    "app_reviews = []\n",
    "for ap in tqdm(app_packages):\n",
    "    for score in list(range(1, 6)):\n",
    "        for sort_order in [Sort.MOST_RELEVANT, Sort.NEWEST]:\n",
    "            rvs, _ = reviews(\n",
    "            ap,\n",
    "            lang='en',\n",
    "            country='us',\n",
    "            sort=sort_order,\n",
    "            count= 200 if score == 3 else 100,\n",
    "            filter_score_with=score)\n",
    "    for r in rvs:\n",
    "        r['sortOrder'] = 'most_relevant' if sort_order == Sort.MOST_RELEVANT else 'newest'\n",
    "        r['appId'] = ap\n",
    "        app_reviews.extend(rvs)"
   ]
  },
  {
   "cell_type": "code",
   "execution_count": 34,
   "metadata": {},
   "outputs": [
    {
     "data": {
      "text/plain": [
       "10000"
      ]
     },
     "execution_count": 34,
     "metadata": {},
     "output_type": "execute_result"
    }
   ],
   "source": [
    "len(app_reviews)"
   ]
  },
  {
   "cell_type": "code",
   "execution_count": 35,
   "metadata": {},
   "outputs": [],
   "source": [
    "app_reviews_df = pd.DataFrame(app_reviews)\n",
    "app_reviews_df.to_csv('reviews.csv', index=None, header=True)"
   ]
  },
  {
   "cell_type": "code",
   "execution_count": 36,
   "metadata": {},
   "outputs": [
    {
     "data": {
      "text/html": [
       "<div>\n",
       "<style scoped>\n",
       "    .dataframe tbody tr th:only-of-type {\n",
       "        vertical-align: middle;\n",
       "    }\n",
       "\n",
       "    .dataframe tbody tr th {\n",
       "        vertical-align: top;\n",
       "    }\n",
       "\n",
       "    .dataframe thead th {\n",
       "        text-align: right;\n",
       "    }\n",
       "</style>\n",
       "<table border=\"1\" class=\"dataframe\">\n",
       "  <thead>\n",
       "    <tr style=\"text-align: right;\">\n",
       "      <th></th>\n",
       "      <th>reviewId</th>\n",
       "      <th>userName</th>\n",
       "      <th>userImage</th>\n",
       "      <th>content</th>\n",
       "      <th>score</th>\n",
       "      <th>thumbsUpCount</th>\n",
       "      <th>reviewCreatedVersion</th>\n",
       "      <th>at</th>\n",
       "      <th>replyContent</th>\n",
       "      <th>repliedAt</th>\n",
       "      <th>sortOrder</th>\n",
       "      <th>appId</th>\n",
       "    </tr>\n",
       "  </thead>\n",
       "  <tbody>\n",
       "    <tr>\n",
       "      <td>0</td>\n",
       "      <td>gp:AOqpTOGoRl6Fb6bMyKVB1VldyR78Ky2Su2OrIKpjfHY...</td>\n",
       "      <td>Jorge Luzuriaga</td>\n",
       "      <td>https://lh3.googleusercontent.com/-VLlPlAcBBhQ...</td>\n",
       "      <td>People want money for there used or new stuff,...</td>\n",
       "      <td>5</td>\n",
       "      <td>0</td>\n",
       "      <td>3.59.0</td>\n",
       "      <td>2020-06-29 20:37:01</td>\n",
       "      <td>None</td>\n",
       "      <td>None</td>\n",
       "      <td>newest</td>\n",
       "      <td>com.offerup</td>\n",
       "    </tr>\n",
       "    <tr>\n",
       "      <td>1</td>\n",
       "      <td>gp:AOqpTOEbdNzNeNQCgJYvMQ0k-NapnIWZmfd5L5S_ct5...</td>\n",
       "      <td>Paul Bustamante</td>\n",
       "      <td>https://lh3.googleusercontent.com/-KhkckqJs4nI...</td>\n",
       "      <td>Very helpful</td>\n",
       "      <td>5</td>\n",
       "      <td>0</td>\n",
       "      <td>3.59.0</td>\n",
       "      <td>2020-06-29 20:18:54</td>\n",
       "      <td>None</td>\n",
       "      <td>None</td>\n",
       "      <td>newest</td>\n",
       "      <td>com.offerup</td>\n",
       "    </tr>\n",
       "    <tr>\n",
       "      <td>2</td>\n",
       "      <td>gp:AOqpTOGU1HTMl2AJ9xMupPdfGStj0Mid0q8Qa2BmVXm...</td>\n",
       "      <td>Miguel Trejo</td>\n",
       "      <td>https://lh3.googleusercontent.com/-Qv_9hJBgd7Y...</td>\n",
       "      <td>Love this app, very helpful and there's someth...</td>\n",
       "      <td>5</td>\n",
       "      <td>0</td>\n",
       "      <td>3.59.0</td>\n",
       "      <td>2020-06-29 19:58:24</td>\n",
       "      <td>None</td>\n",
       "      <td>None</td>\n",
       "      <td>newest</td>\n",
       "      <td>com.offerup</td>\n",
       "    </tr>\n",
       "    <tr>\n",
       "      <td>3</td>\n",
       "      <td>gp:AOqpTOFyTN17MMi7CLL5Cnjji_w2qo09ar1opzU_jWO...</td>\n",
       "      <td>Rosemary</td>\n",
       "      <td>https://lh3.googleusercontent.com/a-/AOh14GhcL...</td>\n",
       "      <td>Best app so far. No hidden fees and easy to se...</td>\n",
       "      <td>5</td>\n",
       "      <td>0</td>\n",
       "      <td>3.59.0</td>\n",
       "      <td>2020-06-29 19:57:12</td>\n",
       "      <td>None</td>\n",
       "      <td>None</td>\n",
       "      <td>newest</td>\n",
       "      <td>com.offerup</td>\n",
       "    </tr>\n",
       "    <tr>\n",
       "      <td>4</td>\n",
       "      <td>gp:AOqpTOHOgtJa2u5LrbJ2S-a0jWi1M0ytUe3FpkE-41h...</td>\n",
       "      <td>Tamara Eggiman</td>\n",
       "      <td>https://lh3.googleusercontent.com/a-/AOh14Gg__...</td>\n",
       "      <td>Always find great things...</td>\n",
       "      <td>5</td>\n",
       "      <td>0</td>\n",
       "      <td>3.59.0</td>\n",
       "      <td>2020-06-29 19:34:05</td>\n",
       "      <td>None</td>\n",
       "      <td>None</td>\n",
       "      <td>newest</td>\n",
       "      <td>com.offerup</td>\n",
       "    </tr>\n",
       "    <tr>\n",
       "      <td>...</td>\n",
       "      <td>...</td>\n",
       "      <td>...</td>\n",
       "      <td>...</td>\n",
       "      <td>...</td>\n",
       "      <td>...</td>\n",
       "      <td>...</td>\n",
       "      <td>...</td>\n",
       "      <td>...</td>\n",
       "      <td>...</td>\n",
       "      <td>...</td>\n",
       "      <td>...</td>\n",
       "      <td>...</td>\n",
       "    </tr>\n",
       "    <tr>\n",
       "      <td>9995</td>\n",
       "      <td>gp:AOqpTOEeNoaMuaJD5ThIIjtcHizQ0-0ezpDcHljYpOR...</td>\n",
       "      <td>Christian Saldana</td>\n",
       "      <td>https://lh3.googleusercontent.com/-RY1IELmvh20...</td>\n",
       "      <td>😃</td>\n",
       "      <td>5</td>\n",
       "      <td>0</td>\n",
       "      <td>3.58.0</td>\n",
       "      <td>2020-06-28 19:07:50</td>\n",
       "      <td>None</td>\n",
       "      <td>None</td>\n",
       "      <td>newest</td>\n",
       "      <td>com.offerup</td>\n",
       "    </tr>\n",
       "    <tr>\n",
       "      <td>9996</td>\n",
       "      <td>gp:AOqpTOHISuhfU3cVLykvWyVQtQPlTDp5C6KaH0Ct_fA...</td>\n",
       "      <td>brenda lopez</td>\n",
       "      <td>https://lh3.googleusercontent.com/a-/AOh14GhU7...</td>\n",
       "      <td>Easy to navigate</td>\n",
       "      <td>5</td>\n",
       "      <td>0</td>\n",
       "      <td>3.59.0</td>\n",
       "      <td>2020-06-28 18:38:07</td>\n",
       "      <td>None</td>\n",
       "      <td>None</td>\n",
       "      <td>newest</td>\n",
       "      <td>com.offerup</td>\n",
       "    </tr>\n",
       "    <tr>\n",
       "      <td>9997</td>\n",
       "      <td>gp:AOqpTOFfpcd2ygVQTGieZErZfo4K_LhjvlOGv6l9CVq...</td>\n",
       "      <td>Monda Jackson</td>\n",
       "      <td>https://lh3.googleusercontent.com/a-/AOh14GiFI...</td>\n",
       "      <td>Very useful and I've purchased many items and ...</td>\n",
       "      <td>5</td>\n",
       "      <td>0</td>\n",
       "      <td>3.58.0</td>\n",
       "      <td>2020-06-28 18:37:03</td>\n",
       "      <td>None</td>\n",
       "      <td>None</td>\n",
       "      <td>newest</td>\n",
       "      <td>com.offerup</td>\n",
       "    </tr>\n",
       "    <tr>\n",
       "      <td>9998</td>\n",
       "      <td>gp:AOqpTOGsdZKPVA45DuoNoQKJDTZlfmMhFZWPAm--t9k...</td>\n",
       "      <td>Carlos Diaz</td>\n",
       "      <td>https://lh3.googleusercontent.com/-1VDF94yVFNQ...</td>\n",
       "      <td>Good products and good selling tool</td>\n",
       "      <td>5</td>\n",
       "      <td>0</td>\n",
       "      <td>3.58.0</td>\n",
       "      <td>2020-06-28 18:35:00</td>\n",
       "      <td>None</td>\n",
       "      <td>None</td>\n",
       "      <td>newest</td>\n",
       "      <td>com.offerup</td>\n",
       "    </tr>\n",
       "    <tr>\n",
       "      <td>9999</td>\n",
       "      <td>gp:AOqpTOFTircJ2UGlV1erkF3p8sh_aDARn5fUfHiqsC5...</td>\n",
       "      <td>Angel Rivera</td>\n",
       "      <td>https://lh3.googleusercontent.com/a-/AOh14GgWB...</td>\n",
       "      <td>Great app, great people here to. Met some real...</td>\n",
       "      <td>5</td>\n",
       "      <td>0</td>\n",
       "      <td>3.59.0</td>\n",
       "      <td>2020-06-28 18:26:39</td>\n",
       "      <td>None</td>\n",
       "      <td>None</td>\n",
       "      <td>newest</td>\n",
       "      <td>com.offerup</td>\n",
       "    </tr>\n",
       "  </tbody>\n",
       "</table>\n",
       "<p>10000 rows × 12 columns</p>\n",
       "</div>"
      ],
      "text/plain": [
       "                                               reviewId           userName  \\\n",
       "0     gp:AOqpTOGoRl6Fb6bMyKVB1VldyR78Ky2Su2OrIKpjfHY...    Jorge Luzuriaga   \n",
       "1     gp:AOqpTOEbdNzNeNQCgJYvMQ0k-NapnIWZmfd5L5S_ct5...    Paul Bustamante   \n",
       "2     gp:AOqpTOGU1HTMl2AJ9xMupPdfGStj0Mid0q8Qa2BmVXm...       Miguel Trejo   \n",
       "3     gp:AOqpTOFyTN17MMi7CLL5Cnjji_w2qo09ar1opzU_jWO...           Rosemary   \n",
       "4     gp:AOqpTOHOgtJa2u5LrbJ2S-a0jWi1M0ytUe3FpkE-41h...     Tamara Eggiman   \n",
       "...                                                 ...                ...   \n",
       "9995  gp:AOqpTOEeNoaMuaJD5ThIIjtcHizQ0-0ezpDcHljYpOR...  Christian Saldana   \n",
       "9996  gp:AOqpTOHISuhfU3cVLykvWyVQtQPlTDp5C6KaH0Ct_fA...       brenda lopez   \n",
       "9997  gp:AOqpTOFfpcd2ygVQTGieZErZfo4K_LhjvlOGv6l9CVq...      Monda Jackson   \n",
       "9998  gp:AOqpTOGsdZKPVA45DuoNoQKJDTZlfmMhFZWPAm--t9k...        Carlos Diaz   \n",
       "9999  gp:AOqpTOFTircJ2UGlV1erkF3p8sh_aDARn5fUfHiqsC5...       Angel Rivera   \n",
       "\n",
       "                                              userImage  \\\n",
       "0     https://lh3.googleusercontent.com/-VLlPlAcBBhQ...   \n",
       "1     https://lh3.googleusercontent.com/-KhkckqJs4nI...   \n",
       "2     https://lh3.googleusercontent.com/-Qv_9hJBgd7Y...   \n",
       "3     https://lh3.googleusercontent.com/a-/AOh14GhcL...   \n",
       "4     https://lh3.googleusercontent.com/a-/AOh14Gg__...   \n",
       "...                                                 ...   \n",
       "9995  https://lh3.googleusercontent.com/-RY1IELmvh20...   \n",
       "9996  https://lh3.googleusercontent.com/a-/AOh14GhU7...   \n",
       "9997  https://lh3.googleusercontent.com/a-/AOh14GiFI...   \n",
       "9998  https://lh3.googleusercontent.com/-1VDF94yVFNQ...   \n",
       "9999  https://lh3.googleusercontent.com/a-/AOh14GgWB...   \n",
       "\n",
       "                                                content  score  thumbsUpCount  \\\n",
       "0     People want money for there used or new stuff,...      5              0   \n",
       "1                                          Very helpful      5              0   \n",
       "2     Love this app, very helpful and there's someth...      5              0   \n",
       "3     Best app so far. No hidden fees and easy to se...      5              0   \n",
       "4                           Always find great things...      5              0   \n",
       "...                                                 ...    ...            ...   \n",
       "9995                                                  😃      5              0   \n",
       "9996                                   Easy to navigate      5              0   \n",
       "9997  Very useful and I've purchased many items and ...      5              0   \n",
       "9998                Good products and good selling tool      5              0   \n",
       "9999  Great app, great people here to. Met some real...      5              0   \n",
       "\n",
       "     reviewCreatedVersion                  at replyContent repliedAt  \\\n",
       "0                  3.59.0 2020-06-29 20:37:01         None      None   \n",
       "1                  3.59.0 2020-06-29 20:18:54         None      None   \n",
       "2                  3.59.0 2020-06-29 19:58:24         None      None   \n",
       "3                  3.59.0 2020-06-29 19:57:12         None      None   \n",
       "4                  3.59.0 2020-06-29 19:34:05         None      None   \n",
       "...                   ...                 ...          ...       ...   \n",
       "9995               3.58.0 2020-06-28 19:07:50         None      None   \n",
       "9996               3.59.0 2020-06-28 18:38:07         None      None   \n",
       "9997               3.58.0 2020-06-28 18:37:03         None      None   \n",
       "9998               3.58.0 2020-06-28 18:35:00         None      None   \n",
       "9999               3.59.0 2020-06-28 18:26:39         None      None   \n",
       "\n",
       "     sortOrder        appId  \n",
       "0       newest  com.offerup  \n",
       "1       newest  com.offerup  \n",
       "2       newest  com.offerup  \n",
       "3       newest  com.offerup  \n",
       "4       newest  com.offerup  \n",
       "...        ...          ...  \n",
       "9995    newest  com.offerup  \n",
       "9996    newest  com.offerup  \n",
       "9997    newest  com.offerup  \n",
       "9998    newest  com.offerup  \n",
       "9999    newest  com.offerup  \n",
       "\n",
       "[10000 rows x 12 columns]"
      ]
     },
     "execution_count": 36,
     "metadata": {},
     "output_type": "execute_result"
    }
   ],
   "source": [
    "app_reviews_df"
   ]
  },
  {
   "cell_type": "code",
   "execution_count": 39,
   "metadata": {},
   "outputs": [
    {
     "data": {
      "text/plain": [
       "5    10000\n",
       "Name: score, dtype: int64"
      ]
     },
     "execution_count": 39,
     "metadata": {},
     "output_type": "execute_result"
    }
   ],
   "source": [
    "app_reviews_df['score'].value_counts()"
   ]
  },
  {
   "cell_type": "code",
   "execution_count": 38,
   "metadata": {
    "scrolled": true
   },
   "outputs": [
    {
     "name": "stdout",
     "output_type": "stream",
     "text": [
      "<class 'pandas.core.frame.DataFrame'>\n",
      "RangeIndex: 10000 entries, 0 to 9999\n",
      "Data columns (total 12 columns):\n",
      "reviewId                10000 non-null object\n",
      "userName                10000 non-null object\n",
      "userImage               10000 non-null object\n",
      "content                 10000 non-null object\n",
      "score                   10000 non-null int64\n",
      "thumbsUpCount           10000 non-null int64\n",
      "reviewCreatedVersion    9300 non-null object\n",
      "at                      10000 non-null datetime64[ns]\n",
      "replyContent            0 non-null object\n",
      "repliedAt               0 non-null object\n",
      "sortOrder               10000 non-null object\n",
      "appId                   10000 non-null object\n",
      "dtypes: datetime64[ns](1), int64(2), object(9)\n",
      "memory usage: 937.6+ KB\n"
     ]
    }
   ],
   "source": [
    "app_reviews_df.info()"
   ]
  },
  {
   "cell_type": "code",
   "execution_count": null,
   "metadata": {},
   "outputs": [],
   "source": []
  },
  {
   "cell_type": "markdown",
   "metadata": {},
   "source": [
    "## ...then how do dig in to the reviews????"
   ]
  },
  {
   "cell_type": "code",
   "execution_count": null,
   "metadata": {},
   "outputs": [],
   "source": []
  }
 ],
 "metadata": {
  "kernelspec": {
   "display_name": "Python [conda env:learn-env] *",
   "language": "python",
   "name": "conda-env-learn-env-py"
  },
  "language_info": {
   "codemirror_mode": {
    "name": "ipython",
    "version": 3
   },
   "file_extension": ".py",
   "mimetype": "text/x-python",
   "name": "python",
   "nbconvert_exporter": "python",
   "pygments_lexer": "ipython3",
   "version": "3.6.9"
  },
  "latex_envs": {
   "LaTeX_envs_menu_present": true,
   "autoclose": false,
   "autocomplete": true,
   "bibliofile": "biblio.bib",
   "cite_by": "apalike",
   "current_citInitial": 1,
   "eqLabelWithNumbers": true,
   "eqNumInitial": 1,
   "hotkeys": {
    "equation": "Ctrl-E",
    "itemize": "Ctrl-I"
   },
   "labels_anchors": false,
   "latex_user_defs": false,
   "report_style_numbering": false,
   "user_envs_cfg": false
  },
  "toc": {
   "base_numbering": 1,
   "nav_menu": {},
   "number_sections": true,
   "sideBar": true,
   "skip_h1_title": false,
   "title_cell": "Table of Contents",
   "title_sidebar": "Contents",
   "toc_cell": false,
   "toc_position": {},
   "toc_section_display": true,
   "toc_window_display": false
  },
  "varInspector": {
   "cols": {
    "lenName": 16,
    "lenType": 16,
    "lenVar": 40
   },
   "kernels_config": {
    "python": {
     "delete_cmd_postfix": "",
     "delete_cmd_prefix": "del ",
     "library": "var_list.py",
     "varRefreshCmd": "print(var_dic_list())"
    },
    "r": {
     "delete_cmd_postfix": ") ",
     "delete_cmd_prefix": "rm(",
     "library": "var_list.r",
     "varRefreshCmd": "cat(var_dic_list()) "
    }
   },
   "types_to_exclude": [
    "module",
    "function",
    "builtin_function_or_method",
    "instance",
    "_Feature"
   ],
   "window_display": false
  }
 },
 "nbformat": 4,
 "nbformat_minor": 2
}
